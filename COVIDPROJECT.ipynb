{
 "cells": [
  {
   "cell_type": "code",
   "execution_count": 2,
   "id": "c2bc009b",
   "metadata": {},
   "outputs": [],
   "source": [
    "import pandas as pd\n",
    "import numpy as np\n",
    "import matplotlib.pyplot as plt\n",
    "import matplotlib as mpl\n",
    "import seaborn as sns\n",
    "%matplotlib inline\n",
    "mpl.style.use(\"seaborn\")#make our plot look pretty"
   ]
  },
  {
   "cell_type": "code",
   "execution_count": 22,
   "id": "ac08f1a9",
   "metadata": {},
   "outputs": [],
   "source": [
    "df=pd.read_csv('timeseries.csv')#read the data"
   ]
  },
  {
   "cell_type": "markdown",
   "id": "da2a5a2a",
   "metadata": {},
   "source": [
    "# This dashboard shows Covid 19 data for Pennsylvania,US from 2nd March,2020 to 25th June,2021. It includes the number of new cases, deaths and vaccinations over the period."
   ]
  },
  {
   "cell_type": "markdown",
   "id": "4ad4e83f",
   "metadata": {},
   "source": [
    "# Duplicate entries"
   ]
  },
  {
   "cell_type": "code",
   "execution_count": 4,
   "id": "7e59bc2e",
   "metadata": {},
   "outputs": [
    {
     "name": "stdout",
     "output_type": "stream",
     "text": [
      "20\n"
     ]
    }
   ],
   "source": [
    "print(df.duplicated().sum()) #to find the number of duplicate entries"
   ]
  },
  {
   "cell_type": "markdown",
   "id": "4252b81d",
   "metadata": {
    "scrolled": true
   },
   "source": [
    "# Covid Information by State"
   ]
  },
  {
   "cell_type": "code",
   "execution_count": 28,
   "id": "3850bb4f",
   "metadata": {},
   "outputs": [
    {
     "name": "stdout",
     "output_type": "stream",
     "text": [
      "State: PA\n"
     ]
    }
   ],
   "source": [
    "June16=df.iloc[491]#locating the all information on 16th June,2021\n",
    "state=June16[2]#state\n",
    "print(\"State: \" + state)"
   ]
  },
  {
   "cell_type": "code",
   "execution_count": 29,
   "id": "154d3d20",
   "metadata": {},
   "outputs": [
    {
     "name": "stdout",
     "output_type": "stream",
     "text": [
      "Date: 2021-06-16\n"
     ]
    }
   ],
   "source": [
    "date=June16[0]#date\n",
    "print(\"Date: \"+ date)"
   ]
  },
  {
   "cell_type": "code",
   "execution_count": 26,
   "id": "283f3d55",
   "metadata": {},
   "outputs": [
    {
     "name": "stdout",
     "output_type": "stream",
     "text": [
      "New cases: 279.0\n"
     ]
    }
   ],
   "source": [
    "newcasesJ16=June16['actuals.newCases']#new cases\n",
    "print(\"New cases: \" + str(newcasesJ16) )"
   ]
  },
  {
   "cell_type": "code",
   "execution_count": 31,
   "id": "465580e0",
   "metadata": {},
   "outputs": [
    {
     "name": "stdout",
     "output_type": "stream",
     "text": [
      "New deaths: 16.0\n"
     ]
    }
   ],
   "source": [
    "newdeathsJ16= June16['actuals.newDeaths'] #new deaths\n",
    "print(\"New deaths: \" + str(newdeathsJ16))"
   ]
  },
  {
   "cell_type": "code",
   "execution_count": 36,
   "id": "7a1735dd",
   "metadata": {},
   "outputs": [
    {
     "name": "stdout",
     "output_type": "stream",
     "text": [
      "Cases per 100k: 0.02658\n"
     ]
    }
   ],
   "source": [
    "#case per 100k = new daily cases(average of last 7 days)/(population x 100,000)\n",
    "sevendaysdata= df.iloc[484:491]#average of last 7 days\n",
    "average=sevendaysdata['actuals.newCases'].sum()\n",
    "case100k= (average/100000)\n",
    "print(\"Cases per 100k: \" + str(case100k))"
   ]
  },
  {
   "cell_type": "code",
   "execution_count": 41,
   "id": "b8b5ed77",
   "metadata": {},
   "outputs": [
    {
     "name": "stdout",
     "output_type": "stream",
     "text": [
      "Cumulative cases: 1214330.0\n"
     ]
    }
   ],
   "source": [
    "cumulative_cases= June16['actuals.cases'] + newcasesJ16 #cumulative cases= actual cases + new cases\n",
    "print(\"Cumulative cases: \"+ str(cumulative_cases))"
   ]
  },
  {
   "cell_type": "code",
   "execution_count": 42,
   "id": "114969c5",
   "metadata": {},
   "outputs": [
    {
     "name": "stdout",
     "output_type": "stream",
     "text": [
      "Cumulative deaths: 27598.0\n"
     ]
    }
   ],
   "source": [
    "cumulative_deaths= June16['actuals.deaths'] + newdeathsJ16 #cumulative deaths= actual deaths+ new deaths\n",
    "print(\"Cumulative deaths: \"+ str(cumulative_deaths))"
   ]
  },
  {
   "cell_type": "code",
   "execution_count": 45,
   "id": "38e51920",
   "metadata": {},
   "outputs": [
    {
     "name": "stdout",
     "output_type": "stream",
     "text": [
      "Vaccination completed: 0.472\n"
     ]
    }
   ],
   "source": [
    "completed_vaccination=June16['metrics.vaccinationsCompletedRatio']#ratio of population that has completed vaccination\n",
    "print(\"Vaccination completed: \"+ str(completed_vaccination))"
   ]
  },
  {
   "cell_type": "code",
   "execution_count": 46,
   "id": "cc2736a8",
   "metadata": {},
   "outputs": [
    {
     "name": "stdout",
     "output_type": "stream",
     "text": [
      "Vaccination initiated: 0.611\n"
     ]
    }
   ],
   "source": [
    "initiated_vaccination=June16['metrics.vaccinationsInitiatedRatio']#ratio of population that has completed vaccination\n",
    "print(\"Vaccination initiated: \" + str(initiated_vaccination))"
   ]
  },
  {
   "cell_type": "code",
   "execution_count": 53,
   "id": "841a49a7",
   "metadata": {},
   "outputs": [
    {
     "data": {
      "image/png": "[encoded data removed]",
      "text/plain": [
       "<Figure size 576x396 with 1 Axes>"
      ]
     },
     "metadata": {},
     "output_type": "display_data"
    }
   ],
   "source": [
    "df.plot(kind='scatter', x= 'actuals.cases', y='actuals.vaccinationsCompleted') #a line plot of the number of covid cases against the of completed vaccinations\n",
    "plt.title(\"Graph of Covid cases and vaccinations completed in the US\")\n",
    "plt.xlabel(\"Covid Cases\")\n",
    "plt.ylabel('Vaccinations completed')\n",
    "plt.show()"
   ]
  },
  {
   "cell_type": "markdown",
   "id": "37c7aa4b",
   "metadata": {},
   "source": [
    "# There is a strong positive relationship between the number of cases and the completed vaccinations.The number of Covid cases increased as the number of completed vaccinations increased."
   ]
  },
  {
   "cell_type": "code",
   "execution_count": 20,
   "id": "12ba3e9a",
   "metadata": {
    "collapsed": true
   },
   "outputs": [
    {
     "name": "stdout",
     "output_type": "stream",
     "text": [
      "Requirement already satisfied: voila in c:\\users\\emmanuella\\anaconda3\\lib\\site-packages (0.2.16)\n",
      "Requirement already satisfied: jupyter-server<2.0.0,>=0.3.0 in c:\\users\\emmanuella\\anaconda3\\lib\\site-packages (from voila) (1.4.1)\n",
      "Requirement already satisfied: nbconvert<7,>=6.0.0 in c:\\users\\emmanuella\\anaconda3\\lib\\site-packages (from voila) (6.1.0)\n",
      "Requirement already satisfied: jupyter-client<7,>=6.1.3 in c:\\users\\emmanuella\\anaconda3\\lib\\site-packages (from voila) (6.1.12)\n",
      "Requirement already satisfied: nbclient<0.6,>=0.4.0 in c:\\users\\emmanuella\\anaconda3\\lib\\site-packages (from voila) (0.5.3)\n",
      "Requirement already satisfied: tornado>=4.1 in c:\\users\\emmanuella\\anaconda3\\lib\\site-packages (from jupyter-client<7,>=6.1.3->voila) (6.1)\n",
      "Requirement already satisfied: traitlets in c:\\users\\emmanuella\\anaconda3\\lib\\site-packages (from jupyter-client<7,>=6.1.3->voila) (5.1.0)\n",
      "Requirement already satisfied: jupyter-core>=4.6.0 in c:\\users\\emmanuella\\anaconda3\\lib\\site-packages (from jupyter-client<7,>=6.1.3->voila) (4.8.1)\n",
      "Requirement already satisfied: pyzmq>=13 in c:\\users\\emmanuella\\anaconda3\\lib\\site-packages (from jupyter-client<7,>=6.1.3->voila) (22.2.1)\n",
      "Requirement already satisfied: python-dateutil>=2.1 in c:\\users\\emmanuella\\anaconda3\\lib\\site-packages (from jupyter-client<7,>=6.1.3->voila) (2.8.2)\n",
      "Requirement already satisfied: pywin32>=1.0 in c:\\users\\emmanuella\\anaconda3\\lib\\site-packages (from jupyter-core>=4.6.0->jupyter-client<7,>=6.1.3->voila) (228)\n",
      "Note: you may need to restart the kernel to use updated packages.Requirement already satisfied: terminado>=0.8.3 in c:\\users\\emmanuella\\anaconda3\\lib\\site-packages (from jupyter-server<2.0.0,>=0.3.0->voila) (0.9.4)\n",
      "\n",
      "Requirement already satisfied: Send2Trash in c:\\users\\emmanuella\\anaconda3\\lib\\site-packages (from jupyter-server<2.0.0,>=0.3.0->voila) (1.8.0)\n",
      "Requirement already satisfied: nbformat in c:\\users\\emmanuella\\anaconda3\\lib\\site-packages (from jupyter-server<2.0.0,>=0.3.0->voila) (5.1.3)\n",
      "Requirement already satisfied: anyio>=2.0.2 in c:\\users\\emmanuella\\anaconda3\\lib\\site-packages (from jupyter-server<2.0.0,>=0.3.0->voila) (2.2.0)\n",
      "Requirement already satisfied: prometheus-client in c:\\users\\emmanuella\\anaconda3\\lib\\site-packages (from jupyter-server<2.0.0,>=0.3.0->voila) (0.11.0)\n",
      "Requirement already satisfied: ipython-genutils in c:\\users\\emmanuella\\anaconda3\\lib\\site-packages (from jupyter-server<2.0.0,>=0.3.0->voila) (0.2.0)\n",
      "Requirement already satisfied: jinja2 in c:\\users\\emmanuella\\anaconda3\\lib\\site-packages (from jupyter-server<2.0.0,>=0.3.0->voila) (2.11.3)\n",
      "Requirement already satisfied: sniffio>=1.1 in c:\\users\\emmanuella\\anaconda3\\lib\\site-packages (from anyio>=2.0.2->jupyter-server<2.0.0,>=0.3.0->voila) (1.2.0)\n",
      "Requirement already satisfied: idna>=2.8 in c:\\users\\emmanuella\\anaconda3\\lib\\site-packages (from anyio>=2.0.2->jupyter-server<2.0.0,>=0.3.0->voila) (3.2)\n",
      "Requirement already satisfied: nest-asyncio in c:\\users\\emmanuella\\anaconda3\\lib\\site-packages (from nbclient<0.6,>=0.4.0->voila) (1.5.1)\n",
      "Requirement already satisfied: async-generator in c:\\users\\emmanuella\\anaconda3\\lib\\site-packages (from nbclient<0.6,>=0.4.0->voila) (1.10)\n",
      "Requirement already satisfied: pygments>=2.4.1 in c:\\users\\emmanuella\\anaconda3\\lib\\site-packages (from nbconvert<7,>=6.0.0->voila) (2.10.0)\n",
      "Requirement already satisfied: pandocfilters>=1.4.1 in c:\\users\\emmanuella\\anaconda3\\lib\\site-packages (from nbconvert<7,>=6.0.0->voila) (1.4.3)\n",
      "Requirement already satisfied: testpath in c:\\users\\emmanuella\\anaconda3\\lib\\site-packages (from nbconvert<7,>=6.0.0->voila) (0.5.0)\n",
      "Requirement already satisfied: mistune<2,>=0.8.1 in c:\\users\\emmanuella\\anaconda3\\lib\\site-packages (from nbconvert<7,>=6.0.0->voila) (0.8.4)\n",
      "Requirement already satisfied: jupyterlab-pygments in c:\\users\\emmanuella\\anaconda3\\lib\\site-packages (from nbconvert<7,>=6.0.0->voila) (0.1.2)\n",
      "Requirement already satisfied: bleach in c:\\users\\emmanuella\\anaconda3\\lib\\site-packages (from nbconvert<7,>=6.0.0->voila) (4.0.0)\n",
      "Requirement already satisfied: defusedxml in c:\\users\\emmanuella\\anaconda3\\lib\\site-packages (from nbconvert<7,>=6.0.0->voila) (0.7.1)\n",
      "Requirement already satisfied: entrypoints>=0.2.2 in c:\\users\\emmanuella\\anaconda3\\lib\\site-packages (from nbconvert<7,>=6.0.0->voila) (0.3)\n",
      "Requirement already satisfied: MarkupSafe>=0.23 in c:\\users\\emmanuella\\anaconda3\\lib\\site-packages (from jinja2->jupyter-server<2.0.0,>=0.3.0->voila) (2.0.1)\n",
      "Requirement already satisfied: jsonschema!=2.5.0,>=2.4 in c:\\users\\emmanuella\\anaconda3\\lib\\site-packages (from nbformat->jupyter-server<2.0.0,>=0.3.0->voila) (3.2.0)\n",
      "Requirement already satisfied: setuptools in c:\\users\\emmanuella\\anaconda3\\lib\\site-packages (from jsonschema!=2.5.0,>=2.4->nbformat->jupyter-server<2.0.0,>=0.3.0->voila) (58.0.4)\n",
      "Requirement already satisfied: six>=1.11.0 in c:\\users\\emmanuella\\anaconda3\\lib\\site-packages (from jsonschema!=2.5.0,>=2.4->nbformat->jupyter-server<2.0.0,>=0.3.0->voila) (1.16.0)\n",
      "Requirement already satisfied: pyrsistent>=0.14.0 in c:\\users\\emmanuella\\anaconda3\\lib\\site-packages (from jsonschema!=2.5.0,>=2.4->nbformat->jupyter-server<2.0.0,>=0.3.0->voila) (0.18.0)\n",
      "Requirement already satisfied: attrs>=17.4.0 in c:\\users\\emmanuella\\anaconda3\\lib\\site-packages (from jsonschema!=2.5.0,>=2.4->nbformat->jupyter-server<2.0.0,>=0.3.0->voila) (21.2.0)\n",
      "Requirement already satisfied: pywinpty>=0.5 in c:\\users\\emmanuella\\anaconda3\\lib\\site-packages (from terminado>=0.8.3->jupyter-server<2.0.0,>=0.3.0->voila) (0.5.7)\n",
      "Requirement already satisfied: webencodings in c:\\users\\emmanuella\\anaconda3\\lib\\site-packages (from bleach->nbconvert<7,>=6.0.0->voila) (0.5.1)\n",
      "Requirement already satisfied: packaging in c:\\users\\emmanuella\\anaconda3\\lib\\site-packages (from bleach->nbconvert<7,>=6.0.0->voila) (21.0)\n",
      "Requirement already satisfied: pyparsing>=2.0.2 in c:\\users\\emmanuella\\anaconda3\\lib\\site-packages (from packaging->bleach->nbconvert<7,>=6.0.0->voila) (3.0.4)\n"
     ]
    }
   ],
   "source": [
    "pip install voila"
   ]
  },
  {
   "cell_type": "markdown",
   "id": "07f9e6b4",
   "metadata": {},
   "source": [
    "# link to dashboard : https://git.heroku.com/essilfie.git"
   ]
  },
  {
   "cell_type": "code",
   "execution_count": null,
   "id": "ce8722d2",
   "metadata": {},
   "outputs": [],
   "source": []
  },
  {
   "cell_type": "code",
   "execution_count": null,
   "id": "30b1b184",
   "metadata": {},
   "outputs": [],
   "source": []
  },
  {
   "cell_type": "code",
   "execution_count": null,
   "id": "09dc7466",
   "metadata": {},
   "outputs": [],
   "source": []
  }
 ],
 "metadata": {
  "kernelspec": {
   "display_name": "Python 3 (ipykernel)",
   "language": "python",
   "name": "python3"
  },
  "language_info": {
   "codemirror_mode": {
    "name": "ipython",
    "version": 3
   },
   "file_extension": ".py",
   "mimetype": "text/x-python",
   "name": "python",
   "nbconvert_exporter": "python",
   "pygments_lexer": "ipython3",
   "version": "3.9.7"
  }
 },
 "nbformat": 4,
 "nbformat_minor": 5
}
